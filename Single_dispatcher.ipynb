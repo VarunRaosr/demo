{
 "cells": [
  {
   "cell_type": "code",
   "execution_count": 1,
   "metadata": {
    "collapsed": true
   },
   "outputs": [],
   "source": [
    "from html import escape"
   ]
  },
  {
   "cell_type": "code",
   "execution_count": 13,
   "metadata": {
    "collapsed": true
   },
   "outputs": [],
   "source": [
    "def html_escape(arg):\n",
    "    return escape(str(arg))\n",
    "\n",
    "def html_int(a):\n",
    "    return '{0}(<i>{1}</i>)'.format(a,str(hex(a) ))\n",
    "\n",
    "def html_real(a):\n",
    "    return '{0:.2f}'.format(round(a,2))\n",
    "\n",
    "def html_str(s):\n",
    "    return html_escape(s).replace('\\n','<br/>\\n')\n",
    "\n",
    "def html_list(l):\n",
    "    items = ('<li>{0}</li>'.format(htmlize(item))\n",
    "            for item in l\n",
    "            )\n",
    "    return '<ul>\\n' + '\\n'.join(items) + '\\n</ul>'\n",
    "\n",
    "def html_dict(d):\n",
    "    items = ('<li>{0}={1}</li>'.format(htmlize(k),htmlize(v) )\n",
    "            for k,v in d.items()\n",
    "            )\n",
    "    return '<ul>\\n' + '\\n'.join(items) + '\\n</ul>'"
   ]
  },
  {
   "cell_type": "code",
   "execution_count": 15,
   "metadata": {},
   "outputs": [
    {
     "name": "stdout",
     "output_type": "stream",
     "text": [
      "78a\n",
      "56(<i>0x38</i>)\n",
      "5.60\n",
      "<ul>\n",
      "<li>1(<i>0x1</i>)</li>\n",
      "<li>2(<i>0x2</i>)</li>\n",
      "<li>3(<i>0x3</i>)</li>\n",
      "<li>4(<i>0x4</i>)</li>\n",
      "</ul>\n",
      "<ul>\n",
      "<li>1(<i>0x1</i>)=1(<i>0x1</i>)</li>\n",
      "<li>2(<i>0x2</i>)=3(<i>0x3</i>)</li>\n",
      "</ul>\n"
     ]
    }
   ],
   "source": [
    "print(html_escape(\"78a\"))\n",
    "\n",
    "print(html_int(56))\n",
    "\n",
    "print(html_real(5.6))\n",
    "\n",
    "print(html_list([1,2,3,4]))\n",
    "\n",
    "print(html_dict({1:1,2:3}))"
   ]
  },
  {
   "cell_type": "code",
   "execution_count": 10,
   "metadata": {
    "collapsed": true
   },
   "outputs": [],
   "source": [
    "from decimal import Decimal\n",
    "def htmlize(arg):\n",
    "    if isinstance(arg,int):\n",
    "        return html_int(arg)\n",
    "    elif isinstance(arg,float) or isinstance(arg,Decimal):\n",
    "        return html_real(arg)\n",
    "    elif isinstance(arg,str):\n",
    "        return html_str(arg)\n",
    "    elif isinstance(arg,list) or isinstance(arg,tuple):\n",
    "        return html_list(arg)\n",
    "    elif isinstance(arg,dict):\n",
    "        return html_dict(arg)\n",
    "    else:\n",
    "        return html_escape(arg)"
   ]
  },
  {
   "cell_type": "code",
   "execution_count": 16,
   "metadata": {},
   "outputs": [
    {
     "data": {
      "text/plain": [
       "'<br/>\\nsdlflds <br/>\\nis <br/>\\n2nd line'"
      ]
     },
     "execution_count": 16,
     "metadata": {},
     "output_type": "execute_result"
    }
   ],
   "source": [
    "htmlize(\"\"\"\n",
    "sdlflds \n",
    "is \n",
    "2nd line\"\"\")"
   ]
  },
  {
   "cell_type": "code",
   "execution_count": 17,
   "metadata": {
    "collapsed": true
   },
   "outputs": [],
   "source": [
    "def htmlize(arg):\n",
    "    registry = {\n",
    "        object: html_escape,\n",
    "        int : html_int,\n",
    "        str : html_str,\n",
    "        list : html_list,\n",
    "        tuple : hmtl_list\n",
    "    }\n",
    "    \n",
    "    fn = registry.get(type(arg),registry[object])\n",
    "    \n",
    "    return fn(arg)\n",
    "\n",
    "# limitation - we have to change the registry dicitonary every time we need to add new item.\n",
    "# this is a hardcoded dictionary\n",
    "# so we need a way to modify the dictionary from outside the htmlize funciton - idea of Closure !!!\n"
   ]
  },
  {
   "cell_type": "code",
   "execution_count": 18,
   "metadata": {
    "collapsed": true
   },
   "outputs": [],
   "source": [
    "def single_dispatch(fn):\n",
    "    registry = {}\n",
    "    \n",
    "    registry[object] = fn\n",
    "    \n",
    "    def inner(arg):\n",
    "        return registry[object](arg)\n",
    "    \n",
    "    return inner"
   ]
  },
  {
   "cell_type": "code",
   "execution_count": 19,
   "metadata": {
    "collapsed": true
   },
   "outputs": [],
   "source": [
    "def single_dispatch(fn):\n",
    "    registry = {}\n",
    "    \n",
    "    registry[object] = fn\n",
    "    registry[int] = lambda a:  '{0}(<i>{1}</i>)'.format(a,str(a))\n",
    "    registry[str] = lambda s:   html_escape(s).replace('\\n','<br/>\\n')\n",
    "    \n",
    "    def inner(arg):\n",
    "        return registry[object](arg)\n",
    "    \n",
    "    return inner"
   ]
  },
  {
   "cell_type": "code",
   "execution_count": 20,
   "metadata": {
    "collapsed": true
   },
   "outputs": [],
   "source": [
    "def single_dispatch(fn):\n",
    "    \n",
    "    registry = {}\n",
    "    registry[object] = fn\n",
    "    \n",
    "    # returning the result of htmlizing\n",
    "    def decorated(arg):\n",
    "        return registry.get(type(arg),registry[object])\n",
    "    \n",
    "    # register new type to the dictionary -\n",
    "    # all its doing is the fact that it has access to registry dictionary it is using that to add new fn for the type_\n",
    "    def register(type_):\n",
    "        def inner(fn):\n",
    "            registry[type_] = fn\n",
    "            return fn\n",
    "        return inner\n",
    "    \n",
    "    return decorated"
   ]
  },
  {
   "cell_type": "code",
   "execution_count": 21,
   "metadata": {
    "collapsed": true
   },
   "outputs": [],
   "source": [
    "# in above we dont have a handle to register function . So how to get a handle to this\n",
    "def single_dispatch(fn):\n",
    "    \n",
    "    registry = {}\n",
    "    registry[object] = fn\n",
    "    \n",
    "    # returning the result of htmlizing\n",
    "    def decorated(arg):\n",
    "        return registry.get(type(arg),registry[object])\n",
    "    \n",
    "    def register(type_):\n",
    "        def inner(fn):\n",
    "            registry[type_] = fn\n",
    "            return fn\n",
    "        return inner\n",
    "    \n",
    "    # now we have a handle to register function\n",
    "    decorated.register = register\n",
    "    \n",
    "    return decorated"
   ]
  },
  {
   "cell_type": "code",
   "execution_count": 22,
   "metadata": {
    "collapsed": true
   },
   "outputs": [],
   "source": [
    "@single_dispatch\n",
    "def htmlize(a):\n",
    "    return escape(str(a))"
   ]
  },
  {
   "cell_type": "code",
   "execution_count": 24,
   "metadata": {},
   "outputs": [
    {
     "data": {
      "text/plain": [
       "<function __main__.htmlize>"
      ]
     },
     "execution_count": 24,
     "metadata": {},
     "output_type": "execute_result"
    }
   ],
   "source": [
    "htmlize(\"string\")"
   ]
  },
  {
   "cell_type": "code",
   "execution_count": 25,
   "metadata": {},
   "outputs": [
    {
     "data": {
      "text/plain": [
       "<function __main__.single_dispatch.<locals>.register>"
      ]
     },
     "execution_count": 25,
     "metadata": {},
     "output_type": "execute_result"
    }
   ],
   "source": [
    "htmlize.register"
   ]
  },
  {
   "cell_type": "code",
   "execution_count": 27,
   "metadata": {},
   "outputs": [],
   "source": [
    "@htmlize.register(int)\n",
    "def html_int(a):\n",
    "    return '{0}(<i>{1}</i>)'.format(a,str(a))"
   ]
  },
  {
   "cell_type": "code",
   "execution_count": 29,
   "metadata": {},
   "outputs": [],
   "source": [
    "#we can stack \n",
    "@htmlize.register(list)\n",
    "@htmlize.register(tuple)\n",
    "def html_sequence(l):\n",
    "    items = ('<li>{0}</li>'.format(htmlize(item))\n",
    "            for item in l\n",
    "            )\n",
    "    return '<ul>\\n' + '\\n'.join(items) + '\\n</ul>'\n"
   ]
  },
  {
   "cell_type": "code",
   "execution_count": 30,
   "metadata": {
    "collapsed": true
   },
   "outputs": [],
   "source": [
    "# in above we dont have a handle to register function . So how to get a handle to this\n",
    "def single_dispatch(fn):\n",
    "    \n",
    "    registry = {}\n",
    "    registry[object] = fn\n",
    "    \n",
    "    # returning the result of htmlizing\n",
    "    def decorated(arg):\n",
    "        return registry.get(type(arg),registry[object])\n",
    "    \n",
    "    def register(type_):\n",
    "        def inner(fn):\n",
    "            registry[type_] = fn\n",
    "            return fn\n",
    "        return inner\n",
    "    \n",
    "    decorated.register = register\n",
    "    # give direct handle to registry - but dont give direct access to dictionary - can use during debug\n",
    "    decorated.registry = registry\n",
    "    return decorated"
   ]
  },
  {
   "cell_type": "code",
   "execution_count": 31,
   "metadata": {
    "collapsed": true
   },
   "outputs": [],
   "source": [
    "from functools import singledispatch"
   ]
  },
  {
   "cell_type": "code",
   "execution_count": 32,
   "metadata": {
    "collapsed": true
   },
   "outputs": [],
   "source": [
    "from numbers import Integral\n",
    "from collections.abc import Sequence"
   ]
  },
  {
   "cell_type": "code",
   "execution_count": 33,
   "metadata": {
    "collapsed": true
   },
   "outputs": [],
   "source": [
    "@single_dispatch\n",
    "def htmlize(a):\n",
    "    return escape(str(a))"
   ]
  },
  {
   "cell_type": "code",
   "execution_count": 35,
   "metadata": {},
   "outputs": [
    {
     "name": "stdout",
     "output_type": "stream",
     "text": [
      "{<class 'object'>: <function htmlize at 0x00000267BAE2FAE8>}\n"
     ]
    },
    {
     "data": {
      "text/plain": [
       "<function __main__.single_dispatch.<locals>.register>"
      ]
     },
     "execution_count": 35,
     "metadata": {},
     "output_type": "execute_result"
    }
   ],
   "source": [
    "print(htmlize.registry)\n",
    "htmlize.register"
   ]
  },
  {
   "cell_type": "code",
   "execution_count": 37,
   "metadata": {},
   "outputs": [],
   "source": [
    "@htmlize.register(Integral)\n",
    "def htmlize_integral_number(a):\n",
    "    return '{0}(<i>{1}</i>)'.format(a,str(hex(a) ))"
   ]
  },
  {
   "cell_type": "code",
   "execution_count": 47,
   "metadata": {},
   "outputs": [
    {
     "data": {
      "text/plain": [
       "<function __main__.htmlize>"
      ]
     },
     "execution_count": 47,
     "metadata": {},
     "output_type": "execute_result"
    }
   ],
   "source": [
    "htmlize(5)"
   ]
  }
 ],
 "metadata": {
  "kernelspec": {
   "display_name": "Python 3",
   "language": "python",
   "name": "python3"
  },
  "language_info": {
   "codemirror_mode": {
    "name": "ipython",
    "version": 3
   },
   "file_extension": ".py",
   "mimetype": "text/x-python",
   "name": "python",
   "nbconvert_exporter": "python",
   "pygments_lexer": "ipython3",
   "version": "3.6.6"
  }
 },
 "nbformat": 4,
 "nbformat_minor": 2
}
